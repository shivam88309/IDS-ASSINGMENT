{
 "cells": [
  {
   "cell_type": "code",
   "execution_count": 51,
   "id": "2f2259c0-bc22-4368-89e8-f1dacc70ba5a",
   "metadata": {},
   "outputs": [
    {
     "name": "stdout",
     "output_type": "stream",
     "text": [
      "CSV file 'example.csv' created successfully.\n"
     ]
    },
    {
     "data": {
      "text/plain": [
       "'example.csv'"
      ]
     },
     "execution_count": 51,
     "metadata": {},
     "output_type": "execute_result"
    }
   ],
   "source": [
    "#load data set \n",
    "#data set 1\n",
    "import csv\n",
    "\n",
    "data = [\n",
    "    ['StudentID','Name','Marks'],\n",
    "    [101,'Alice',85],\n",
    "    [102,'Bob',90],\n",
    "    [103,'Charlie',88],\n",
    "    [104,'David',92],\n",
    "]\n",
    "\n",
    "file_path = 'example.csv'\n",
    "\n",
    "# Writing the data to CSV\n",
    "with open(file_path, 'w', newline='') as csv_file:\n",
    "    writer = csv.writer(csv_file)\n",
    "    writer.writerows(data)\n",
    "\n",
    "print(f\"CSV file '{file_path}' created successfully.\")\n",
    "file_path"
   ]
  },
  {
   "cell_type": "code",
   "execution_count": 53,
   "id": "3a809dd3-c2ea-4302-9ba2-b863f74b4bcc",
   "metadata": {},
   "outputs": [],
   "source": [
    "import pandas as pd\n",
    "df=pd.read_csv(r\"C:\\Users\\gadar\\Documents\\example.csv\")"
   ]
  },
  {
   "cell_type": "code",
   "execution_count": 55,
   "id": "f588b6cc-4457-47a4-a1dd-6c1a0e856b0f",
   "metadata": {},
   "outputs": [
    {
     "data": {
      "text/html": [
       "<div>\n",
       "<style scoped>\n",
       "    .dataframe tbody tr th:only-of-type {\n",
       "        vertical-align: middle;\n",
       "    }\n",
       "\n",
       "    .dataframe tbody tr th {\n",
       "        vertical-align: top;\n",
       "    }\n",
       "\n",
       "    .dataframe thead th {\n",
       "        text-align: right;\n",
       "    }\n",
       "</style>\n",
       "<table border=\"1\" class=\"dataframe\">\n",
       "  <thead>\n",
       "    <tr style=\"text-align: right;\">\n",
       "      <th></th>\n",
       "      <th>StudentID</th>\n",
       "      <th>Name</th>\n",
       "      <th>Marks</th>\n",
       "    </tr>\n",
       "  </thead>\n",
       "  <tbody>\n",
       "    <tr>\n",
       "      <th>0</th>\n",
       "      <td>101</td>\n",
       "      <td>Alice</td>\n",
       "      <td>85</td>\n",
       "    </tr>\n",
       "    <tr>\n",
       "      <th>1</th>\n",
       "      <td>102</td>\n",
       "      <td>Bob</td>\n",
       "      <td>90</td>\n",
       "    </tr>\n",
       "    <tr>\n",
       "      <th>2</th>\n",
       "      <td>103</td>\n",
       "      <td>Charlie</td>\n",
       "      <td>88</td>\n",
       "    </tr>\n",
       "    <tr>\n",
       "      <th>3</th>\n",
       "      <td>104</td>\n",
       "      <td>David</td>\n",
       "      <td>92</td>\n",
       "    </tr>\n",
       "  </tbody>\n",
       "</table>\n",
       "</div>"
      ],
      "text/plain": [
       "   StudentID     Name  Marks\n",
       "0        101    Alice     85\n",
       "1        102      Bob     90\n",
       "2        103  Charlie     88\n",
       "3        104    David     92"
      ]
     },
     "execution_count": 55,
     "metadata": {},
     "output_type": "execute_result"
    }
   ],
   "source": [
    "df"
   ]
  },
  {
   "cell_type": "code",
   "execution_count": 57,
   "id": "9e517f4f-2745-4413-8aa8-044b9c28cb35",
   "metadata": {},
   "outputs": [
    {
     "name": "stdout",
     "output_type": "stream",
     "text": [
      "CSV file 'details.csv' created successfully.\n"
     ]
    },
    {
     "data": {
      "text/plain": [
       "'details.csv'"
      ]
     },
     "execution_count": 57,
     "metadata": {},
     "output_type": "execute_result"
    }
   ],
   "source": [
    "#load data set 2\n",
    "# data set 2\n",
    "import csv\n",
    "import pandas\n",
    "\n",
    "dataa = [\n",
    "    ['StudentID','Age','Grade'],\n",
    "    [101,20,'A'],\n",
    "    [102,21,'B'],\n",
    "    [103,22,'A'],\n",
    "    [105,19,'C']\n",
    "]\n",
    "\n",
    "file_path = 'details.csv'\n",
    "\n",
    "# Writing the data to CSV\n",
    "with open(file_path, 'w', newline='') as csv_file:\n",
    "    writer = csv.writer(csv_file)\n",
    "    writer.writerows(dataa)\n",
    "\n",
    "print(f\"CSV file '{file_path}' created successfully.\")\n",
    "file_path"
   ]
  },
  {
   "cell_type": "code",
   "execution_count": 59,
   "id": "e0d3e8b4-9fb1-4f62-8fa9-5de3588e5a83",
   "metadata": {},
   "outputs": [],
   "source": [
    "dc=pd.read_csv(r\"C:\\Users\\gadar\\Documents\\details.csv\")"
   ]
  },
  {
   "cell_type": "code",
   "execution_count": 61,
   "id": "3169c2ff-a23c-409b-97c3-7f0ed20e7175",
   "metadata": {},
   "outputs": [
    {
     "data": {
      "text/html": [
       "<div>\n",
       "<style scoped>\n",
       "    .dataframe tbody tr th:only-of-type {\n",
       "        vertical-align: middle;\n",
       "    }\n",
       "\n",
       "    .dataframe tbody tr th {\n",
       "        vertical-align: top;\n",
       "    }\n",
       "\n",
       "    .dataframe thead th {\n",
       "        text-align: right;\n",
       "    }\n",
       "</style>\n",
       "<table border=\"1\" class=\"dataframe\">\n",
       "  <thead>\n",
       "    <tr style=\"text-align: right;\">\n",
       "      <th></th>\n",
       "      <th>StudentID</th>\n",
       "      <th>Age</th>\n",
       "      <th>Grade</th>\n",
       "    </tr>\n",
       "  </thead>\n",
       "  <tbody>\n",
       "    <tr>\n",
       "      <th>0</th>\n",
       "      <td>101</td>\n",
       "      <td>20</td>\n",
       "      <td>A</td>\n",
       "    </tr>\n",
       "    <tr>\n",
       "      <th>1</th>\n",
       "      <td>102</td>\n",
       "      <td>21</td>\n",
       "      <td>B</td>\n",
       "    </tr>\n",
       "    <tr>\n",
       "      <th>2</th>\n",
       "      <td>103</td>\n",
       "      <td>22</td>\n",
       "      <td>A</td>\n",
       "    </tr>\n",
       "    <tr>\n",
       "      <th>3</th>\n",
       "      <td>105</td>\n",
       "      <td>19</td>\n",
       "      <td>C</td>\n",
       "    </tr>\n",
       "  </tbody>\n",
       "</table>\n",
       "</div>"
      ],
      "text/plain": [
       "   StudentID  Age Grade\n",
       "0        101   20     A\n",
       "1        102   21     B\n",
       "2        103   22     A\n",
       "3        105   19     C"
      ]
     },
     "execution_count": 61,
     "metadata": {},
     "output_type": "execute_result"
    }
   ],
   "source": [
    "dc"
   ]
  },
  {
   "cell_type": "code",
   "execution_count": 63,
   "id": "987e32bd-6163-4a92-8e9f-d0d6a8354690",
   "metadata": {},
   "outputs": [
    {
     "data": {
      "text/html": [
       "<div>\n",
       "<style scoped>\n",
       "    .dataframe tbody tr th:only-of-type {\n",
       "        vertical-align: middle;\n",
       "    }\n",
       "\n",
       "    .dataframe tbody tr th {\n",
       "        vertical-align: top;\n",
       "    }\n",
       "\n",
       "    .dataframe thead th {\n",
       "        text-align: right;\n",
       "    }\n",
       "</style>\n",
       "<table border=\"1\" class=\"dataframe\">\n",
       "  <thead>\n",
       "    <tr style=\"text-align: right;\">\n",
       "      <th></th>\n",
       "      <th>StudentID</th>\n",
       "      <th>Name</th>\n",
       "      <th>Marks</th>\n",
       "    </tr>\n",
       "  </thead>\n",
       "  <tbody>\n",
       "    <tr>\n",
       "      <th>0</th>\n",
       "      <td>101</td>\n",
       "      <td>Alice</td>\n",
       "      <td>85</td>\n",
       "    </tr>\n",
       "    <tr>\n",
       "      <th>1</th>\n",
       "      <td>102</td>\n",
       "      <td>Bob</td>\n",
       "      <td>90</td>\n",
       "    </tr>\n",
       "    <tr>\n",
       "      <th>2</th>\n",
       "      <td>103</td>\n",
       "      <td>Charlie</td>\n",
       "      <td>88</td>\n",
       "    </tr>\n",
       "    <tr>\n",
       "      <th>3</th>\n",
       "      <td>104</td>\n",
       "      <td>David</td>\n",
       "      <td>92</td>\n",
       "    </tr>\n",
       "  </tbody>\n",
       "</table>\n",
       "</div>"
      ],
      "text/plain": [
       "   StudentID     Name  Marks\n",
       "0        101    Alice     85\n",
       "1        102      Bob     90\n",
       "2        103  Charlie     88\n",
       "3        104    David     92"
      ]
     },
     "execution_count": 63,
     "metadata": {},
     "output_type": "execute_result"
    }
   ],
   "source": [
    "pd.DataFrame(df)"
   ]
  },
  {
   "cell_type": "code",
   "execution_count": 65,
   "id": "624aeb73-372d-44e2-8234-5325fe884ba6",
   "metadata": {},
   "outputs": [
    {
     "data": {
      "text/html": [
       "<div>\n",
       "<style scoped>\n",
       "    .dataframe tbody tr th:only-of-type {\n",
       "        vertical-align: middle;\n",
       "    }\n",
       "\n",
       "    .dataframe tbody tr th {\n",
       "        vertical-align: top;\n",
       "    }\n",
       "\n",
       "    .dataframe thead th {\n",
       "        text-align: right;\n",
       "    }\n",
       "</style>\n",
       "<table border=\"1\" class=\"dataframe\">\n",
       "  <thead>\n",
       "    <tr style=\"text-align: right;\">\n",
       "      <th></th>\n",
       "      <th>StudentID</th>\n",
       "      <th>Age</th>\n",
       "      <th>Grade</th>\n",
       "    </tr>\n",
       "  </thead>\n",
       "  <tbody>\n",
       "    <tr>\n",
       "      <th>0</th>\n",
       "      <td>101</td>\n",
       "      <td>20</td>\n",
       "      <td>A</td>\n",
       "    </tr>\n",
       "    <tr>\n",
       "      <th>1</th>\n",
       "      <td>102</td>\n",
       "      <td>21</td>\n",
       "      <td>B</td>\n",
       "    </tr>\n",
       "    <tr>\n",
       "      <th>2</th>\n",
       "      <td>103</td>\n",
       "      <td>22</td>\n",
       "      <td>A</td>\n",
       "    </tr>\n",
       "    <tr>\n",
       "      <th>3</th>\n",
       "      <td>105</td>\n",
       "      <td>19</td>\n",
       "      <td>C</td>\n",
       "    </tr>\n",
       "  </tbody>\n",
       "</table>\n",
       "</div>"
      ],
      "text/plain": [
       "   StudentID  Age Grade\n",
       "0        101   20     A\n",
       "1        102   21     B\n",
       "2        103   22     A\n",
       "3        105   19     C"
      ]
     },
     "execution_count": 65,
     "metadata": {},
     "output_type": "execute_result"
    }
   ],
   "source": [
    "pd.DataFrame(dc)"
   ]
  },
  {
   "cell_type": "code",
   "execution_count": 67,
   "id": "22c5dd76-b73b-4789-bc67-bb22a759b0dc",
   "metadata": {},
   "outputs": [
    {
     "data": {
      "text/plain": [
       "\"Right Join (how='right'): Includes all rows from the right dataframe (df) and the matching rows from the left dataframe (dc).\\nIf there is no match, the result will contain NaN for columns from the left dataframe.\""
      ]
     },
     "execution_count": 67,
     "metadata": {},
     "output_type": "execute_result"
    }
   ],
   "source": [
    "#Mergeing using right join\n",
    "merged_df=pd.merge(dc,df,on='StudentID',how='right')\n",
    "\n",
    "\n",
    "\"\"\"Right Join (how='right'): Includes all rows from the right dataframe (df) and the matching rows from the left dataframe (dc).\n",
    "If there is no match, the result will contain NaN for columns from the left dataframe.\"\"\""
   ]
  },
  {
   "cell_type": "code",
   "execution_count": 69,
   "id": "82fe3fa8-0ad2-42af-9197-5d68be0f3f36",
   "metadata": {},
   "outputs": [
    {
     "data": {
      "text/html": [
       "<div>\n",
       "<style scoped>\n",
       "    .dataframe tbody tr th:only-of-type {\n",
       "        vertical-align: middle;\n",
       "    }\n",
       "\n",
       "    .dataframe tbody tr th {\n",
       "        vertical-align: top;\n",
       "    }\n",
       "\n",
       "    .dataframe thead th {\n",
       "        text-align: right;\n",
       "    }\n",
       "</style>\n",
       "<table border=\"1\" class=\"dataframe\">\n",
       "  <thead>\n",
       "    <tr style=\"text-align: right;\">\n",
       "      <th></th>\n",
       "      <th>StudentID</th>\n",
       "      <th>Age</th>\n",
       "      <th>Grade</th>\n",
       "      <th>Name</th>\n",
       "      <th>Marks</th>\n",
       "    </tr>\n",
       "  </thead>\n",
       "  <tbody>\n",
       "    <tr>\n",
       "      <th>0</th>\n",
       "      <td>101</td>\n",
       "      <td>20.0</td>\n",
       "      <td>A</td>\n",
       "      <td>Alice</td>\n",
       "      <td>85</td>\n",
       "    </tr>\n",
       "    <tr>\n",
       "      <th>1</th>\n",
       "      <td>102</td>\n",
       "      <td>21.0</td>\n",
       "      <td>B</td>\n",
       "      <td>Bob</td>\n",
       "      <td>90</td>\n",
       "    </tr>\n",
       "    <tr>\n",
       "      <th>2</th>\n",
       "      <td>103</td>\n",
       "      <td>22.0</td>\n",
       "      <td>A</td>\n",
       "      <td>Charlie</td>\n",
       "      <td>88</td>\n",
       "    </tr>\n",
       "    <tr>\n",
       "      <th>3</th>\n",
       "      <td>104</td>\n",
       "      <td>NaN</td>\n",
       "      <td>NaN</td>\n",
       "      <td>David</td>\n",
       "      <td>92</td>\n",
       "    </tr>\n",
       "  </tbody>\n",
       "</table>\n",
       "</div>"
      ],
      "text/plain": [
       "   StudentID   Age Grade     Name  Marks\n",
       "0        101  20.0     A    Alice     85\n",
       "1        102  21.0     B      Bob     90\n",
       "2        103  22.0     A  Charlie     88\n",
       "3        104   NaN   NaN    David     92"
      ]
     },
     "execution_count": 69,
     "metadata": {},
     "output_type": "execute_result"
    }
   ],
   "source": [
    "merged_df"
   ]
  },
  {
   "cell_type": "code",
   "execution_count": 71,
   "id": "f373659e-54b0-4095-b0dd-c73a491027da",
   "metadata": {},
   "outputs": [
    {
     "data": {
      "text/plain": [
       "\"Left Join (how='left'): Includes all rows from the left dataframe (dc) and the matching rows from the right dataframe (df). \\nIf there is no match, the result will contain NaN for columns from the right dataframe.\""
      ]
     },
     "execution_count": 71,
     "metadata": {},
     "output_type": "execute_result"
    }
   ],
   "source": [
    "#Mergeing using left join\n",
    "merged_df=pd.merge(dc,df,on='StudentID',how='left')\n",
    "\n",
    "\n",
    "\"\"\"Left Join (how='left'): Includes all rows from the left dataframe (dc) and the matching rows from the right dataframe (df). \n",
    "If there is no match, the result will contain NaN for columns from the right dataframe.\"\"\""
   ]
  },
  {
   "cell_type": "code",
   "execution_count": 73,
   "id": "f2bf12c3-cc55-4046-8609-250a9c8b630c",
   "metadata": {},
   "outputs": [
    {
     "data": {
      "text/html": [
       "<div>\n",
       "<style scoped>\n",
       "    .dataframe tbody tr th:only-of-type {\n",
       "        vertical-align: middle;\n",
       "    }\n",
       "\n",
       "    .dataframe tbody tr th {\n",
       "        vertical-align: top;\n",
       "    }\n",
       "\n",
       "    .dataframe thead th {\n",
       "        text-align: right;\n",
       "    }\n",
       "</style>\n",
       "<table border=\"1\" class=\"dataframe\">\n",
       "  <thead>\n",
       "    <tr style=\"text-align: right;\">\n",
       "      <th></th>\n",
       "      <th>StudentID</th>\n",
       "      <th>Age</th>\n",
       "      <th>Grade</th>\n",
       "      <th>Name</th>\n",
       "      <th>Marks</th>\n",
       "    </tr>\n",
       "  </thead>\n",
       "  <tbody>\n",
       "    <tr>\n",
       "      <th>0</th>\n",
       "      <td>101</td>\n",
       "      <td>20</td>\n",
       "      <td>A</td>\n",
       "      <td>Alice</td>\n",
       "      <td>85.0</td>\n",
       "    </tr>\n",
       "    <tr>\n",
       "      <th>1</th>\n",
       "      <td>102</td>\n",
       "      <td>21</td>\n",
       "      <td>B</td>\n",
       "      <td>Bob</td>\n",
       "      <td>90.0</td>\n",
       "    </tr>\n",
       "    <tr>\n",
       "      <th>2</th>\n",
       "      <td>103</td>\n",
       "      <td>22</td>\n",
       "      <td>A</td>\n",
       "      <td>Charlie</td>\n",
       "      <td>88.0</td>\n",
       "    </tr>\n",
       "    <tr>\n",
       "      <th>3</th>\n",
       "      <td>105</td>\n",
       "      <td>19</td>\n",
       "      <td>C</td>\n",
       "      <td>NaN</td>\n",
       "      <td>NaN</td>\n",
       "    </tr>\n",
       "  </tbody>\n",
       "</table>\n",
       "</div>"
      ],
      "text/plain": [
       "   StudentID  Age Grade     Name  Marks\n",
       "0        101   20     A    Alice   85.0\n",
       "1        102   21     B      Bob   90.0\n",
       "2        103   22     A  Charlie   88.0\n",
       "3        105   19     C      NaN    NaN"
      ]
     },
     "execution_count": 73,
     "metadata": {},
     "output_type": "execute_result"
    }
   ],
   "source": [
    "merged_df"
   ]
  },
  {
   "cell_type": "code",
   "execution_count": 75,
   "id": "4ffb2860-c90c-493d-a3ce-80103eb47d0d",
   "metadata": {},
   "outputs": [
    {
     "data": {
      "text/plain": [
       "\"Inner Join (how='inner'): Includes only the rows that have matching values in both dataframes (dc and df) based on the 'StudentID' column.\\nIf there is no match, the row is excluded from the result.\\n1.Inner Join results in the intersection of the two dataframes.\\n\""
      ]
     },
     "execution_count": 75,
     "metadata": {},
     "output_type": "execute_result"
    }
   ],
   "source": [
    "#merging using inner join\n",
    "merged_df=pd.merge(dc,df,on ='StudentID',how='inner')\n",
    "\n",
    "\"\"\"Inner Join (how='inner'): Includes only the rows that have matching values in both dataframes (dc and df) based on the 'StudentID' column.\n",
    "If there is no match, the row is excluded from the result.\n",
    "1.Inner Join results in the intersection of the two dataframes.\n",
    "\"\"\""
   ]
  },
  {
   "cell_type": "code",
   "execution_count": 77,
   "id": "8396836d-20d3-4677-b06b-cdd4d802471b",
   "metadata": {},
   "outputs": [
    {
     "data": {
      "text/html": [
       "<div>\n",
       "<style scoped>\n",
       "    .dataframe tbody tr th:only-of-type {\n",
       "        vertical-align: middle;\n",
       "    }\n",
       "\n",
       "    .dataframe tbody tr th {\n",
       "        vertical-align: top;\n",
       "    }\n",
       "\n",
       "    .dataframe thead th {\n",
       "        text-align: right;\n",
       "    }\n",
       "</style>\n",
       "<table border=\"1\" class=\"dataframe\">\n",
       "  <thead>\n",
       "    <tr style=\"text-align: right;\">\n",
       "      <th></th>\n",
       "      <th>StudentID</th>\n",
       "      <th>Age</th>\n",
       "      <th>Grade</th>\n",
       "      <th>Name</th>\n",
       "      <th>Marks</th>\n",
       "    </tr>\n",
       "  </thead>\n",
       "  <tbody>\n",
       "    <tr>\n",
       "      <th>0</th>\n",
       "      <td>101</td>\n",
       "      <td>20</td>\n",
       "      <td>A</td>\n",
       "      <td>Alice</td>\n",
       "      <td>85</td>\n",
       "    </tr>\n",
       "    <tr>\n",
       "      <th>1</th>\n",
       "      <td>102</td>\n",
       "      <td>21</td>\n",
       "      <td>B</td>\n",
       "      <td>Bob</td>\n",
       "      <td>90</td>\n",
       "    </tr>\n",
       "    <tr>\n",
       "      <th>2</th>\n",
       "      <td>103</td>\n",
       "      <td>22</td>\n",
       "      <td>A</td>\n",
       "      <td>Charlie</td>\n",
       "      <td>88</td>\n",
       "    </tr>\n",
       "  </tbody>\n",
       "</table>\n",
       "</div>"
      ],
      "text/plain": [
       "   StudentID  Age Grade     Name  Marks\n",
       "0        101   20     A    Alice     85\n",
       "1        102   21     B      Bob     90\n",
       "2        103   22     A  Charlie     88"
      ]
     },
     "execution_count": 77,
     "metadata": {},
     "output_type": "execute_result"
    }
   ],
   "source": [
    "merged_df"
   ]
  },
  {
   "cell_type": "code",
   "execution_count": 125,
   "id": "1b4ea2fe-3bd9-4f13-815c-c87e4f893188",
   "metadata": {},
   "outputs": [
    {
     "data": {
      "text/plain": [
       "\"Outer Join (how='outer'): Includes all rows from both dataframes (dc and df).\\nIf there is no match, the result will contain NaN for the columns where there is no corresponding data in the other dataframe\\n2.Outer Join results in the union of the two dataframes.\\n\""
      ]
     },
     "execution_count": 125,
     "metadata": {},
     "output_type": "execute_result"
    }
   ],
   "source": [
    "#merging using outer join\n",
    "merged_df=pd.merge(dc,df,on='StudentID',how='outer')\n",
    "\n",
    "\"\"\"Outer Join (how='outer'): Includes all rows from both dataframes (dc and df).\n",
    "If there is no match, the result will contain NaN for the columns where there is no corresponding data in the other dataframe\n",
    "2.Outer Join results in the union of the two dataframes.\n",
    "\"\"\""
   ]
  },
  {
   "cell_type": "code",
   "execution_count": 127,
   "id": "c10add2a-94b1-4830-bb40-04f974a2d19e",
   "metadata": {},
   "outputs": [
    {
     "data": {
      "text/html": [
       "<div>\n",
       "<style scoped>\n",
       "    .dataframe tbody tr th:only-of-type {\n",
       "        vertical-align: middle;\n",
       "    }\n",
       "\n",
       "    .dataframe tbody tr th {\n",
       "        vertical-align: top;\n",
       "    }\n",
       "\n",
       "    .dataframe thead th {\n",
       "        text-align: right;\n",
       "    }\n",
       "</style>\n",
       "<table border=\"1\" class=\"dataframe\">\n",
       "  <thead>\n",
       "    <tr style=\"text-align: right;\">\n",
       "      <th></th>\n",
       "      <th>StudentID</th>\n",
       "      <th>Age</th>\n",
       "      <th>Grade</th>\n",
       "      <th>Name</th>\n",
       "      <th>Marks</th>\n",
       "    </tr>\n",
       "  </thead>\n",
       "  <tbody>\n",
       "    <tr>\n",
       "      <th>0</th>\n",
       "      <td>101</td>\n",
       "      <td>20.0</td>\n",
       "      <td>A</td>\n",
       "      <td>Alice</td>\n",
       "      <td>85.0</td>\n",
       "    </tr>\n",
       "    <tr>\n",
       "      <th>1</th>\n",
       "      <td>102</td>\n",
       "      <td>21.0</td>\n",
       "      <td>B</td>\n",
       "      <td>Bob</td>\n",
       "      <td>90.0</td>\n",
       "    </tr>\n",
       "    <tr>\n",
       "      <th>2</th>\n",
       "      <td>103</td>\n",
       "      <td>22.0</td>\n",
       "      <td>A</td>\n",
       "      <td>Charlie</td>\n",
       "      <td>88.0</td>\n",
       "    </tr>\n",
       "    <tr>\n",
       "      <th>3</th>\n",
       "      <td>104</td>\n",
       "      <td>NaN</td>\n",
       "      <td>NaN</td>\n",
       "      <td>David</td>\n",
       "      <td>92.0</td>\n",
       "    </tr>\n",
       "    <tr>\n",
       "      <th>4</th>\n",
       "      <td>105</td>\n",
       "      <td>19.0</td>\n",
       "      <td>C</td>\n",
       "      <td>NaN</td>\n",
       "      <td>NaN</td>\n",
       "    </tr>\n",
       "  </tbody>\n",
       "</table>\n",
       "</div>"
      ],
      "text/plain": [
       "   StudentID   Age Grade     Name  Marks\n",
       "0        101  20.0     A    Alice   85.0\n",
       "1        102  21.0     B      Bob   90.0\n",
       "2        103  22.0     A  Charlie   88.0\n",
       "3        104   NaN   NaN    David   92.0\n",
       "4        105  19.0     C      NaN    NaN"
      ]
     },
     "execution_count": 127,
     "metadata": {},
     "output_type": "execute_result"
    }
   ],
   "source": [
    "merged_df"
   ]
  },
  {
   "cell_type": "code",
   "execution_count": 129,
   "id": "2ffcbbd5-0a59-4ed2-8267-de322a22b667",
   "metadata": {},
   "outputs": [
    {
     "data": {
      "text/html": [
       "<div>\n",
       "<style scoped>\n",
       "    .dataframe tbody tr th:only-of-type {\n",
       "        vertical-align: middle;\n",
       "    }\n",
       "\n",
       "    .dataframe tbody tr th {\n",
       "        vertical-align: top;\n",
       "    }\n",
       "\n",
       "    .dataframe thead th {\n",
       "        text-align: right;\n",
       "    }\n",
       "</style>\n",
       "<table border=\"1\" class=\"dataframe\">\n",
       "  <thead>\n",
       "    <tr style=\"text-align: right;\">\n",
       "      <th></th>\n",
       "      <th>Age</th>\n",
       "      <th>Grade</th>\n",
       "      <th>Name</th>\n",
       "      <th>Marks</th>\n",
       "    </tr>\n",
       "    <tr>\n",
       "      <th>StudentID</th>\n",
       "      <th></th>\n",
       "      <th></th>\n",
       "      <th></th>\n",
       "      <th></th>\n",
       "    </tr>\n",
       "  </thead>\n",
       "  <tbody>\n",
       "    <tr>\n",
       "      <th>101</th>\n",
       "      <td>20.0</td>\n",
       "      <td>A</td>\n",
       "      <td>Alice</td>\n",
       "      <td>85.0</td>\n",
       "    </tr>\n",
       "    <tr>\n",
       "      <th>102</th>\n",
       "      <td>21.0</td>\n",
       "      <td>B</td>\n",
       "      <td>Bob</td>\n",
       "      <td>90.0</td>\n",
       "    </tr>\n",
       "    <tr>\n",
       "      <th>103</th>\n",
       "      <td>22.0</td>\n",
       "      <td>A</td>\n",
       "      <td>Charlie</td>\n",
       "      <td>88.0</td>\n",
       "    </tr>\n",
       "    <tr>\n",
       "      <th>104</th>\n",
       "      <td>NaN</td>\n",
       "      <td>NaN</td>\n",
       "      <td>David</td>\n",
       "      <td>92.0</td>\n",
       "    </tr>\n",
       "    <tr>\n",
       "      <th>105</th>\n",
       "      <td>19.0</td>\n",
       "      <td>C</td>\n",
       "      <td>NaN</td>\n",
       "      <td>NaN</td>\n",
       "    </tr>\n",
       "  </tbody>\n",
       "</table>\n",
       "</div>"
      ],
      "text/plain": [
       "            Age Grade     Name  Marks\n",
       "StudentID                            \n",
       "101        20.0     A    Alice   85.0\n",
       "102        21.0     B      Bob   90.0\n",
       "103        22.0     A  Charlie   88.0\n",
       "104         NaN   NaN    David   92.0\n",
       "105        19.0     C      NaN    NaN"
      ]
     },
     "execution_count": 129,
     "metadata": {},
     "output_type": "execute_result"
    }
   ],
   "source": [
    "#student id set to index\n",
    "merged_df.set_index('StudentID', inplace=True)\n",
    "merged_df"
   ]
  },
  {
   "cell_type": "raw",
   "id": "bad8cf07-1ad2-45da-876e-f6e4cdd0ceeb",
   "metadata": {},
   "source": []
  },
  {
   "cell_type": "code",
   "execution_count": 131,
   "id": "3627046d-0825-42b3-9b3d-f6099b49c95e",
   "metadata": {},
   "outputs": [
    {
     "data": {
      "text/html": [
       "<div>\n",
       "<style scoped>\n",
       "    .dataframe tbody tr th:only-of-type {\n",
       "        vertical-align: middle;\n",
       "    }\n",
       "\n",
       "    .dataframe tbody tr th {\n",
       "        vertical-align: top;\n",
       "    }\n",
       "\n",
       "    .dataframe thead th {\n",
       "        text-align: right;\n",
       "    }\n",
       "</style>\n",
       "<table border=\"1\" class=\"dataframe\">\n",
       "  <thead>\n",
       "    <tr style=\"text-align: right;\">\n",
       "      <th></th>\n",
       "      <th>StudentID</th>\n",
       "      <th>Age</th>\n",
       "      <th>Grade</th>\n",
       "      <th>Name</th>\n",
       "      <th>Marks</th>\n",
       "    </tr>\n",
       "  </thead>\n",
       "  <tbody>\n",
       "    <tr>\n",
       "      <th>0</th>\n",
       "      <td>101</td>\n",
       "      <td>20.0</td>\n",
       "      <td>A</td>\n",
       "      <td>Alice</td>\n",
       "      <td>85.0</td>\n",
       "    </tr>\n",
       "    <tr>\n",
       "      <th>1</th>\n",
       "      <td>102</td>\n",
       "      <td>21.0</td>\n",
       "      <td>B</td>\n",
       "      <td>Bob</td>\n",
       "      <td>90.0</td>\n",
       "    </tr>\n",
       "    <tr>\n",
       "      <th>2</th>\n",
       "      <td>103</td>\n",
       "      <td>22.0</td>\n",
       "      <td>A</td>\n",
       "      <td>Charlie</td>\n",
       "      <td>88.0</td>\n",
       "    </tr>\n",
       "    <tr>\n",
       "      <th>3</th>\n",
       "      <td>104</td>\n",
       "      <td>NaN</td>\n",
       "      <td>NaN</td>\n",
       "      <td>David</td>\n",
       "      <td>92.0</td>\n",
       "    </tr>\n",
       "    <tr>\n",
       "      <th>4</th>\n",
       "      <td>105</td>\n",
       "      <td>19.0</td>\n",
       "      <td>C</td>\n",
       "      <td>NaN</td>\n",
       "      <td>NaN</td>\n",
       "    </tr>\n",
       "  </tbody>\n",
       "</table>\n",
       "</div>"
      ],
      "text/plain": [
       "   StudentID   Age Grade     Name  Marks\n",
       "0        101  20.0     A    Alice   85.0\n",
       "1        102  21.0     B      Bob   90.0\n",
       "2        103  22.0     A  Charlie   88.0\n",
       "3        104   NaN   NaN    David   92.0\n",
       "4        105  19.0     C      NaN    NaN"
      ]
     },
     "execution_count": 131,
     "metadata": {},
     "output_type": "execute_result"
    }
   ],
   "source": [
    "#index reset as previous\n",
    "merged_df.reset_index('StudentID', inplace=True)\n",
    "merged_df"
   ]
  },
  {
   "cell_type": "code",
   "execution_count": 135,
   "id": "c37ed620-3396-4384-b3bc-cf878087fde5",
   "metadata": {},
   "outputs": [
    {
     "name": "stdout",
     "output_type": "stream",
     "text": [
      "CSV file 'example.csv' created successfully.\n"
     ]
    },
    {
     "data": {
      "text/plain": [
       "'example.csv'"
      ]
     },
     "execution_count": 135,
     "metadata": {},
     "output_type": "execute_result"
    }
   ],
   "source": [
    "#load data set \n",
    "#data set 1\n",
    "import csv\n",
    "\n",
    "data = [\n",
    "    ['StudentID','Name','Marks'],\n",
    "    [101,'Alice',85],\n",
    "    [102,'Bob',90],\n",
    "    [103,'Charlie',88],\n",
    "    [104,'David',92],\n",
    "]\n",
    "\n",
    "file_path = 'example.csv'\n",
    "\n",
    "# Writing the data to CSV\n",
    "with open(file_path, 'w', newline='') as csv_file:\n",
    "    writer = csv.writer(csv_file)\n",
    "    writer.writerows(data)\n",
    "\n",
    "print(f\"CSV file '{file_path}' created successfully.\")\n",
    "file_path"
   ]
  },
  {
   "cell_type": "code",
   "execution_count": null,
   "id": "f68cae92-1408-4954-8ed1-ecf3d5f6bc7b",
   "metadata": {},
   "outputs": [],
   "source": [
    "\n",
    "\n",
    "\n",
    "\"\"\" \n",
    "Difference between all of them\n",
    "\n",
    "1.Left Join (how='left'):\n",
    "\n",
    "    Includes all rows from the left dataframe (dc).\n",
    "\n",
    "    Matches rows from the right dataframe (df) based on 'StudentID'.\n",
    "\n",
    "    Rows from dc without matches in df will have NaN in the columns from df.\n",
    "\n",
    "\n",
    "2.Right Join (how='right'):\n",
    "\n",
    "   Includes all rows from the right dataframe (df).\n",
    "\n",
    "   Matches rows from the left dataframe (dc) based on 'StudentID'.\n",
    "\n",
    "   Rows from df without matches in dc will have NaN in the columns from dc.\n",
    "\n",
    "\n",
    "3.Inner Join (how='inner'):\n",
    "\n",
    "    Includes only rows with matching 'StudentID' values in both dataframes (dc and df).\n",
    "\n",
    "    Rows without matches in either dataframe are excluded.\n",
    "\n",
    "\n",
    "4.Outer Join (how='outer'):\n",
    "\n",
    "    Includes all rows from both dataframes (dc and df).\n",
    "\n",
    "    Matches rows based on 'StudentID'.\n",
    "\n",
    "    Rows without matches in either dataframe will have NaN in the columns from the other dataframe.\"\"\""
   ]
  }
 ],
 "metadata": {
  "kernelspec": {
   "display_name": "Python 3 (ipykernel)",
   "language": "python",
   "name": "python3"
  },
  "language_info": {
   "codemirror_mode": {
    "name": "ipython",
    "version": 3
   },
   "file_extension": ".py",
   "mimetype": "text/x-python",
   "name": "python",
   "nbconvert_exporter": "python",
   "pygments_lexer": "ipython3",
   "version": "3.12.7"
  }
 },
 "nbformat": 4,
 "nbformat_minor": 5
}
